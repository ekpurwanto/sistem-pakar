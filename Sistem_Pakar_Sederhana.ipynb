{
  "nbformat": 4,
  "nbformat_minor": 0,
  "metadata": {
    "colab": {
      "provenance": [],
      "authorship_tag": "ABX9TyP7wbUOlgmlHpnaDiUu4EmQ",
      "include_colab_link": true
    },
    "kernelspec": {
      "name": "python3",
      "display_name": "Python 3"
    },
    "language_info": {
      "name": "python"
    }
  },
  "cells": [
    {
      "cell_type": "markdown",
      "metadata": {
        "id": "view-in-github",
        "colab_type": "text"
      },
      "source": [
        "<a href=\"https://colab.research.google.com/github/ekpurwanto/sistem-pakar/blob/main/Sistem_Pakar_Sederhana.ipynb\" target=\"_parent\"><img src=\"https://colab.research.google.com/assets/colab-badge.svg\" alt=\"Open In Colab\"/></a>"
      ]
    },
    {
      "cell_type": "code",
      "source": [
        "# Import library yang diperlukan\n",
        "import os\n",
        "\n",
        "# Definisikan daftar gejala\n",
        "daftarGejala = ['Gigi terasa ngilu','Gigi terasa berdenyut','Kepala terasa pusing','Terdapat lubang pada gigi','Gusi bengkak','Demam (suhu badan diatas 38 derajat)','Bau mulut','Gusi berwarna merah tua','Gusi rentan berdarah','Adanya plak/karang gigi','Mulut terasa kering','Sering dehidrasi','Lapisan lidah terasa tebal','Cairan ludah berkurang','Adanya benjolan putih/abu','Terasa luka dan pedih','Gigi terasa sakit','Sakit saat mengunyah','Gigi terasa sensitive','Bentuk gigi tampak terkikis','Gigi terasa nyeri saat makan/minum panas dan dingin','Ngilu berkepanjangan (pada gigi)','Gusi menurun','Sakit setelah pencabutan gigi','Sakit sampai kepala,telinga,mata,leher','Gigi tidak sejajar','Perubahan pada wajah','Tidak nyaman ketika ngunyah dan menggigit','Merasa tidak enak pada mulut','Gigi longgar','Lidah membesar','Nyeri pada lidah','Perubahaan warna pada lidah','Permukaan ldah licin','Warna permukaan lidah kemerahan','Gigi terlihat jarang- jarang','Gigi terlihat tonggos kedepan','Ukuran gigi dan rahan tidak sesuai','Adanya bercak pada sudut bibir','Bercak terasa gatal nyeri dan panas pada bibir','Bila di raba, bercak terasa keras pada bibir','Kadang bercak juga bisa berdarah pada bibir','Cadel','Gigi sulung copot sebelum waktunya (prematur)'\n",
        "]\n",
        "\n",
        "# Definisikan daftar penyakit\n",
        "daftarPenyakit = ['Karies gigi (gigi berlubang)','Gingvitis (radang gusi)','Lidah putih','Stomatitis (sariawan)','Abses gigi (gusi bengkak/nanah)','Abrasi gigi (hilangnya struktur gigi)','Gigi sensitive','Alveolar osteitis (peradangan)','Maloklusi (gigi berdesakan)','Resesi gusi (penurunan gusi)','Gloositis (radang lidah)','Crowded (gigi berjejal)','Cheilitis (radang bibir)']\n",
        "solusiPenyakit = ['Tambal Gigi, Perawatan Saluran akar gigi, dan Cabut gigi','Obat pereda nyeri,Obat kumur, dan Obat antibiotik','Minum banyak air untuk membantu menghilangkan bakteri dan Menyikatnya dengan pembersih lidah khusu','Pengobatan stomatitis aftosa,Pengobatan stomatitis herpes','Perawatan saluran akar (root canal),Cabut gigi','Pembuatan Mahkota Gigi (Crown),Penambalan Gigi','Menggosok Gigi dengan benar,Hindari makanan dan minuman asam','Pemberian obat kumur atau gel antibakteri segera sebelum dan sesudah operasi,Pemberian larutan antiseptik diberikan pada luka','Pasang kawat gigi,Cabut gigi','Perawatan dengan scaling dan root planning','Menjaga kesehatan rongga mulut dengan cara menyikat gigi dua kali sehari (setelah sarapan dan sebelum tidur),Perubahan pola makan untuk mengatasi permasalahan nutrisi yang dapat menjadi penyebab terjadinya glositis','Perawatan orthodonsi','Salep anti jamur,Salep antibakteri']\n",
        "\n",
        "# Definisikan fungsi untuk mendeteksi penyakit\n",
        "def diagnose_gejala(gejala_input):\n",
        "    # Definisikan matriks keputusan\n",
        "    # Baris: gejala\n",
        "    # Kolom: penyakit\n",
        "    matriks_keputusan = np.zeros((len(daftarGejala), len(daftarPenyakit)))\n",
        "\n",
        "    # Isi matriks keputusan\n",
        "    for i in range(len(daftarGejala)):\n",
        "        for j in range(len(daftarPenyakit)):\n",
        "            if gejala_input[i] in daftarPenyakit[j]:\n",
        "                matriks_keputusan[i][j] = 1\n",
        "\n",
        "    # Hitung nilai certainty factor untuk setiap penyakit\n",
        "    certainty_factor = []\n",
        "    for j in range(len(daftarPenyakit)):\n",
        "        certainty_factor.append(np.prod(matriks_keputusan[:, j]))\n",
        "\n",
        "    # Tentukan penyakit dengan nilai certainty factor tertinggi\n",
        "    penyakit = daftarPenyakit[np.argmax(certainty_factor)]\n",
        "\n",
        "    return penyakit, certainty_factor[np.argmax(certainty_factor)]\n",
        "\n",
        "# Mulai skrip\n",
        "\n",
        "# Tampilkan daftar gejala\n",
        "print(\"+.......................................+\")\n",
        "print(\"|\\tSelamat Datang di Sistem Pakar\\t\\t|\")\n",
        "print(\"|\\tDeteksi Gejala Sakit Gigi\\t|\")\n",
        "print(\"+.......................................+\")\n",
        "\n",
        "nama = input(\"nama\\t: \")\n",
        "pilihan = input(\"Hallo \"+nama+\", \\nApakah anda ingin melakukan diagnosa? (y/n) : \")\n",
        "\n",
        "os.system(\"cls\")\n",
        "\n",
        "while pilihan == \"y\" :\n",
        "    gejala_input = []\n",
        "    for i in range(len(daftarGejala)):\n",
        "        gejala = input(\"Apakah Anda merasakan gejala \"+daftarGejala[i]+\" ? (y/n) : \")\n",
        "        gejala_input.append(gejala)\n",
        "\n",
        "    penyakit, certainty_factor = diagnose_gejala(gejala_input)\n",
        "\n",
        "    print(\"+.......................................+\")\n",
        "    print(\"|\\tHasil Diagnosa\\t\\t|\")\n",
        "    print(\"+.......................................+\")\n",
        "    print(\"Hai, \"+nama+\" Hasil Diagnosa Kamu adalah : \")\n",
        "    print(\"Gejala \"+penyakit+\", Segera ke Dokter\")\n",
        "    print(\"+.......................................+\")\n",
        "\n",
        "    pilihan = input(\"Hallo \"+nama+\", \\nApakah anda ingin melakukan diagnosa lagi? (y/n) : \")\n",
        "\n",
        "    os.system(\"cls\")\n",
        "\n",
        "# Tutup skrip\n",
        "print(\"+.............Terima Kasih...............+\")"
      ],
      "metadata": {
        "colab": {
          "base_uri": "https://localhost:8080/"
        },
        "id": "uR21ZflqPrKN",
        "outputId": "1144dff0-4963-4153-f3d4-df5b49d429be"
      },
      "execution_count": null,
      "outputs": [
        {
          "output_type": "stream",
          "name": "stdout",
          "text": [
            "+.......................................+\n",
            "|\tSelamat Datang di Sistem Pakar\t\t|\n",
            "|\tDeteksi Gejala Sakit Gigi\t|\n",
            "+.......................................+\n",
            "nama\t: nm\n",
            "Hallo nm, \n",
            "Apakah anda ingin melakukan diagnosa? (y/n) : n\n",
            "+.............Terima Kasih...............+\n"
          ]
        }
      ]
    }
  ]
}